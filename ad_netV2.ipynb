{
 "cells": [
  {
   "cell_type": "code",
   "execution_count": 1,
   "metadata": {},
   "outputs": [
    {
     "name": "stdout",
     "output_type": "stream",
     "text": [
      "2.0.0-alpha0\n"
     ]
    }
   ],
   "source": [
    "import tensorflow as tf\n",
    "from tensorflow.keras.layers import Lambda,MaxPooling2D,Dropout,Conv2DTranspose,concatenate,Input,Conv2D\n",
    "from tensorflow.keras import Model\n",
    "print(tf.__version__)"
   ]
  },
  {
   "cell_type": "code",
   "execution_count": 2,
   "metadata": {},
   "outputs": [],
   "source": [
    "def inblock(inp):\n",
    "\n",
    "    print(inp)\n",
    "    shortcut = Conv2D(32,(1,1),activation='relu', padding='same')(inp)\n",
    "\n",
    "    conv3x3 = Conv2D(6, (3, 3),activation='relu', padding='same')(inp)# 32filters of size 3x3\n",
    "\n",
    "    conv5x5 = Conv2D(12,(3, 3),activation='relu', padding='same')(conv3x3)# 32filters of size 3x3\n",
    "\n",
    "    conv7x7 = Conv2D(14, (3, 3),activation='relu', padding='same')(conv5x5)#32filters of size 3x3\n",
    "\n",
    "    out = concatenate([conv3x3, conv5x5, conv7x7], axis=3)\n",
    "    \n",
    "    \n",
    "\n",
    "    out = tf.keras.layers.add([shortcut, out])\n",
    "    #out = tf.keras.layers.concatenate([shortcut, out], axis=3)\n",
    "    \n",
    "    out = tf.keras.layers.Activation('relu')(out)\n",
    "    \n",
    "    out = tf.keras.layers.BatchNormalization(axis=3)(out)\n",
    "    print(\"inblock\",out.shape)\n",
    "    return out"
   ]
  },
  {
   "cell_type": "code",
   "execution_count": 3,
   "metadata": {},
   "outputs": [],
   "source": [
    "def resblock_A(inp):\n",
    "  \n",
    "        shortcut = Conv2D(64,(1,1),activation='relu', padding='same')(inp)\n",
    "    \n",
    "        B1 = Conv2D(32, (1, 1),activation='relu', padding='same')(inp)# 32filters of size 1x1\n",
    "    \n",
    "        B2 = Conv2D(32, (1, 1),activation='relu', padding='same')(inp)# 32filters of size 1x1\n",
    "    \n",
    "        B2 = Conv2D(32, (3, 3),activation='relu', padding='same')(B2)# 32filters of size 1x1\n",
    "    \n",
    "        B3 = Conv2D(32, (1, 1),activation='relu', padding='same')(inp)# 32filters of size 1x1\n",
    "    \n",
    "        B3 = Conv2D(48, (3, 3),activation='relu', padding='same')(B3)# 32filters of size 1x1\n",
    "    \n",
    "        B3 = Conv2D(64, (3, 3),activation='relu', padding='same')(B3)# 32filters of size 1x1\n",
    "    \n",
    "        out = tf.keras.layers.concatenate([B1, B2, B3], axis=3)\n",
    "        out = Conv2D(64, (1, 1),activation='relu', padding='same')(out)\n",
    "    \n",
    "        out = tf.keras.layers.add([shortcut, out])              \n",
    "        out = tf.keras.layers.Activation('relu')(out)\n",
    "        out = tf.keras.layers.BatchNormalization(axis=3)(out)\n",
    "        print(\"resblock_a\",out.shape)\n",
    "        return out"
   ]
  },
  {
   "cell_type": "code",
   "execution_count": 13,
   "metadata": {},
   "outputs": [],
   "source": [
    "def reduction_A(inp):\n",
    "\n",
    "    pooling = tf.keras.layers.MaxPooling2D((3,3),2)(inp)\n",
    "    \n",
    "    B1 = Conv2D(64, (3, 3),strides=(2,2),activation='relu', padding='valid')(inp)\n",
    "    \n",
    "    B2 = Conv2D(64, (1, 1),activation='relu', padding='same')(inp)\n",
    "    \n",
    "    B2 = Conv2D(96, (3, 3),activation='relu', padding='same')(B2)\n",
    "    \n",
    "    B2 = Conv2D(96, (3, 3),strides=(2,2),activation='relu', padding='valid')(B2)\n",
    "    \n",
    "    out = tf.keras.layers.concatenate([B1, B2, pooling], axis=3)\n",
    "    out = Conv2D(128, (1, 1),activation='relu', padding='same')(out)\n",
    "    out = tf.keras.layers.Activation('relu')(out)\n",
    "    out = tf.keras.layers.BatchNormalization(axis=3)(out)\n",
    "    #print(out.shape)\n",
    "    return out"
   ]
  },
  {
   "cell_type": "code",
   "execution_count": 5,
   "metadata": {},
   "outputs": [],
   "source": [
    "def resblock_B(inp):\n",
    "\n",
    "    shortcut = Conv2D(256,(1,1),activation='relu', padding='same')(inp)\n",
    "    \n",
    "    B1 = Conv2D(192, (1, 1), activation='relu', padding='same')(inp)# 32filters of size 1x1\n",
    "    \n",
    "    B2 = Conv2D(128, (1, 1), activation='relu', padding='same')(inp)# 32filters of size 1x1\n",
    "    \n",
    "    B2 = Conv2D(160, (1 , 7), activation='relu', padding='same')(B2)\n",
    "    \n",
    "    B2 = Conv2D(192, (7, 1), activation='relu', padding='same')(B2)\n",
    "    \n",
    "    out = tf.keras.layers.concatenate([B1, B2], axis=3)\n",
    "    out = tf.keras.layers.BatchNormalization(axis=3)(out)\n",
    "    \n",
    "    out = Conv2D(256, (1, 1),activation='relu', padding='same')(out)\n",
    "    \n",
    "    out = tf.keras.layers.add([shortcut, out])  \n",
    "    out = tf.keras.layers.Activation('relu')(out)\n",
    "    out = tf.keras.layers.BatchNormalization(axis=3)(out)\n",
    "    print(\"resblock_B\",out.shape)\n",
    "    return out\n",
    "    "
   ]
  },
  {
   "cell_type": "code",
   "execution_count": 6,
   "metadata": {},
   "outputs": [],
   "source": [
    "def reduction_B(inp):\n",
    "\n",
    "    pooling = tf.keras.layers.MaxPooling2D((3,3),(2,2))(inp)\n",
    "    \n",
    "    B1 = Conv2D(64, (1, 1),activation='relu', padding='same')(inp)\n",
    "    B1 = Conv2D(64, (3, 3),strides=(2,2),activation=None, padding='valid')(B1)\n",
    "    \n",
    "    B3 = Conv2D(64, (1, 1),activation='relu', padding='same')(inp)\n",
    "    B3 = Conv2D(64, (3, 3),strides=(2,2),activation=None, padding='valid')(B3)\n",
    "    \n",
    "    B2 = Conv2D(64, (1, 1),activation='relu', padding='same')(inp)\n",
    "    \n",
    "    B2 = Conv2D(96, (3, 3),activation='relu', padding='valid')(B2)\n",
    "    \n",
    "    B2 = Conv2D(96, (3, 3),strides=(2,2),activation='relu', padding='valid')(B2)\n",
    "    \n",
    "    out = tf.keras.layers.concatenate([B1, B2, pooling], axis=3)\n",
    "    out = Conv2D(128, (1, 1),activation='relu', padding='same')(out)\n",
    "    out = tf.keras.layers.Activation('relu')(out)\n",
    "    out = tf.keras.layers.BatchNormalization(axis=3)(out)\n",
    "    #print(out.shape)\n",
    "    return out"
   ]
  },
  {
   "cell_type": "code",
   "execution_count": 7,
   "metadata": {},
   "outputs": [],
   "source": [
    "def resblock_C(inp):\n",
    "\n",
    "    shortcut = Conv2D(1024,(1,1),activation='relu', padding='same')(inp)\n",
    "    B1 = Conv2D(192, (1, 1), activation='relu', padding='same')(inp)# 32filters of size 1x1\n",
    "    \n",
    "    B2 = Conv2D(192, (1, 1), activation='relu', padding='same')(inp)# 32filters of size 1x1\n",
    "    \n",
    "    B2 = Conv2D(224, (1, 3), activation='relu', padding='same')(B2)\n",
    "    \n",
    "    B2 = Conv2D(256, (3, 1), activation='relu', padding='same')(B2)\n",
    "    \n",
    "    out = tf.keras.layers.concatenate([B1, B2], axis=3)\n",
    "    out = tf.keras.layers.BatchNormalization(axis=3)(out)\n",
    "    out = Conv2D(1024, (1, 1),activation='relu', padding='same')(out)\n",
    "    \n",
    "    out = tf.keras.layers.add([shortcut, out]) \n",
    "    out = tf.keras.layers.Activation('relu')(out)\n",
    "    out = tf.keras.layers.BatchNormalization(axis=3)(out)\n",
    "    print(\"resblock_c\",out.shape)\n",
    "    return out"
   ]
  },
  {
   "cell_type": "code",
   "execution_count": 8,
   "metadata": {},
   "outputs": [],
   "source": [
    "def Path_3(inp):\n",
    "\n",
    "\n",
    "    shortcut = Conv2D(32, (1, 1), activation='relu', padding='same')(inp)\n",
    "\n",
    "    out = Conv2D(32, (3, 3), activation='relu', padding='same')(inp)\n",
    "    out = Conv2D(32, (3, 3), activation='relu', padding='same')(out)\n",
    "\n",
    "    out = tf.keras.layers.add([shortcut, out])\n",
    "    #out = tf.keras.layers.concatenate([shortcut, out], axis=3)\n",
    "    out = tf.keras.layers.Activation('relu')(out)\n",
    "    out = tf.keras.layers.BatchNormalization(axis=3)(out)\n",
    "\n",
    "    print(\"path3\",out.shape)\n",
    "\n",
    "    return out"
   ]
  },
  {
   "cell_type": "code",
   "execution_count": 9,
   "metadata": {},
   "outputs": [],
   "source": [
    "def Path_4(inp):\n",
    "  \n",
    "    #out = conv_2d(inp, 32, 3, 3, activation='relu', padding='valid')\n",
    "    out = Conv2D(32,3,activation='relu',padding='same',strides=(1,1))(inp)\n",
    "   \n",
    "\n",
    "    #out = tf.keras.layers.Activation('relu')(out)\n",
    "    \n",
    "    out = tf.keras.layers.BatchNormalization(axis=3)(out)\n",
    "    print(\"path4\",out.shape)\n",
    "\n",
    "    \n",
    "\n",
    "    return out"
   ]
  },
  {
   "cell_type": "code",
   "execution_count": 38,
   "metadata": {},
   "outputs": [],
   "source": [
    "def AD_net_V2(input_dimension=(256,256,3)):\n",
    " \n",
    "    inputs = Input(input_dimension)\n",
    "    inblock_inp= inblock(inputs)\n",
    "    resblock_a=resblock_A(inblock_inp)\n",
    "    path3=Path_3(resblock_a)\n",
    "    \n",
    "    reduction_a=reduction_A(resblock_a)\n",
    "    #reduction_a=tf.keras.layers.MaxPooling2D((2,2))(resblock_a)\n",
    "    resblock_b=resblock_B(reduction_a)\n",
    "    path4=Path_4(resblock_b)\n",
    "    \n",
    "    reduction_b=reduction_A(resblock_b)\n",
    "    #reduction_b=tf.keras.layers.MaxPooling2D((2,2))(resblock_b)\n",
    "    resblock_c=resblock_C(reduction_b)\n",
    "    \n",
    "    \n",
    "    Up1=tf.keras.layers.concatenate([tf.keras.layers.Conv2DTranspose(512, (2, 2), strides=(2, 2), padding='same',output_padding=(1,1))(resblock_c),path4],axis=3)\n",
    "    resblock_b1=resblock_B(Up1)\n",
    "   \n",
    "    Up2=tf.keras.layers.concatenate([tf.keras.layers.Conv2DTranspose(64, (2, 2), strides=(2, 2), padding='same')(resblock_b),path3],axis=3)\n",
    "    resblock_a1=resblock_A(Up2)\n",
    "    outblock=inblock(resblock_a1)\n",
    "    \n",
    "    conv_final=Conv2D(1,(1,1),activation='sigmoid',padding='same')(outblock)\n",
    "    \n",
    "    print(\"conv final\",conv_final.shape) \n",
    "    \n",
    "    model = tf.keras.Model(inputs=[inputs], outputs=[conv_final])\n",
    "    model.compile(optimizer='adam',loss = 'binary_crossentropy', metrics = ['accuracy'])\n",
    "    #model.compile(optimizer='adam', loss='binary_crossentropy', metrics=[mean_iou])\n",
    "    return model\n",
    "    "
   ]
  },
  {
   "cell_type": "code",
   "execution_count": 39,
   "metadata": {},
   "outputs": [],
   "source": [
    "#@tf.function\n",
    "def main():\n",
    "    model=AD_net_V2()\n",
    "    print(model.summary())\n"
   ]
  },
  {
   "cell_type": "code",
   "execution_count": 40,
   "metadata": {},
   "outputs": [
    {
     "name": "stdout",
     "output_type": "stream",
     "text": [
      "Tensor(\"input_10:0\", shape=(None, 256, 256, 3), dtype=float32)\n",
      "inblock (None, 256, 256, 32)\n",
      "resblock_a (None, 256, 256, 64)\n",
      "path3 (None, 256, 256, 32)\n",
      "resblock_B (None, 127, 127, 256)\n",
      "path4 (None, 127, 127, 32)\n",
      "resblock_c (None, 63, 63, 1024)\n"
     ]
    },
    {
     "ename": "ValueError",
     "evalue": "A `Concatenate` layer requires inputs with matching shapes except for the concat axis. Got inputs shapes: [(None, 125, 125, 512), (None, 127, 127, 32)]",
     "output_type": "error",
     "traceback": [
      "\u001b[0;31m---------------------------------------------------------------------------\u001b[0m",
      "\u001b[0;31mValueError\u001b[0m                                Traceback (most recent call last)",
      "\u001b[0;32m<ipython-input-40-c7bc734e5e35>\u001b[0m in \u001b[0;36m<module>\u001b[0;34m\u001b[0m\n\u001b[1;32m      1\u001b[0m \u001b[0;32mif\u001b[0m \u001b[0m__name__\u001b[0m \u001b[0;34m==\u001b[0m \u001b[0;34m'__main__'\u001b[0m\u001b[0;34m:\u001b[0m\u001b[0;34m\u001b[0m\u001b[0;34m\u001b[0m\u001b[0m\n\u001b[0;32m----> 2\u001b[0;31m     \u001b[0mmain\u001b[0m\u001b[0;34m(\u001b[0m\u001b[0;34m)\u001b[0m\u001b[0;34m\u001b[0m\u001b[0;34m\u001b[0m\u001b[0m\n\u001b[0m",
      "\u001b[0;32m<ipython-input-39-c943655e031b>\u001b[0m in \u001b[0;36mmain\u001b[0;34m()\u001b[0m\n\u001b[1;32m      1\u001b[0m \u001b[0;31m#@tf.function\u001b[0m\u001b[0;34m\u001b[0m\u001b[0;34m\u001b[0m\u001b[0;34m\u001b[0m\u001b[0m\n\u001b[1;32m      2\u001b[0m \u001b[0;32mdef\u001b[0m \u001b[0mmain\u001b[0m\u001b[0;34m(\u001b[0m\u001b[0;34m)\u001b[0m\u001b[0;34m:\u001b[0m\u001b[0;34m\u001b[0m\u001b[0;34m\u001b[0m\u001b[0m\n\u001b[0;32m----> 3\u001b[0;31m     \u001b[0mmodel\u001b[0m\u001b[0;34m=\u001b[0m\u001b[0mAD_net_V2\u001b[0m\u001b[0;34m(\u001b[0m\u001b[0;34m)\u001b[0m\u001b[0;34m\u001b[0m\u001b[0;34m\u001b[0m\u001b[0m\n\u001b[0m\u001b[1;32m      4\u001b[0m     \u001b[0mprint\u001b[0m\u001b[0;34m(\u001b[0m\u001b[0mmodel\u001b[0m\u001b[0;34m.\u001b[0m\u001b[0msummary\u001b[0m\u001b[0;34m(\u001b[0m\u001b[0;34m)\u001b[0m\u001b[0;34m)\u001b[0m\u001b[0;34m\u001b[0m\u001b[0;34m\u001b[0m\u001b[0m\n",
      "\u001b[0;32m<ipython-input-38-dcff31d659d6>\u001b[0m in \u001b[0;36mAD_net_V2\u001b[0;34m(input_dimension)\u001b[0m\n\u001b[1;32m     16\u001b[0m \u001b[0;34m\u001b[0m\u001b[0m\n\u001b[1;32m     17\u001b[0m \u001b[0;34m\u001b[0m\u001b[0m\n\u001b[0;32m---> 18\u001b[0;31m     \u001b[0mUp1\u001b[0m\u001b[0;34m=\u001b[0m\u001b[0mtf\u001b[0m\u001b[0;34m.\u001b[0m\u001b[0mkeras\u001b[0m\u001b[0;34m.\u001b[0m\u001b[0mlayers\u001b[0m\u001b[0;34m.\u001b[0m\u001b[0mconcatenate\u001b[0m\u001b[0;34m(\u001b[0m\u001b[0;34m[\u001b[0m\u001b[0mtf\u001b[0m\u001b[0;34m.\u001b[0m\u001b[0mkeras\u001b[0m\u001b[0;34m.\u001b[0m\u001b[0mlayers\u001b[0m\u001b[0;34m.\u001b[0m\u001b[0mConv2DTranspose\u001b[0m\u001b[0;34m(\u001b[0m\u001b[0;36m512\u001b[0m\u001b[0;34m,\u001b[0m \u001b[0;34m(\u001b[0m\u001b[0;36m2\u001b[0m\u001b[0;34m,\u001b[0m \u001b[0;36m2\u001b[0m\u001b[0;34m)\u001b[0m\u001b[0;34m,\u001b[0m \u001b[0mstrides\u001b[0m\u001b[0;34m=\u001b[0m\u001b[0;34m(\u001b[0m\u001b[0;36m2\u001b[0m\u001b[0;34m,\u001b[0m \u001b[0;36m2\u001b[0m\u001b[0;34m)\u001b[0m\u001b[0;34m,\u001b[0m \u001b[0mpadding\u001b[0m\u001b[0;34m=\u001b[0m\u001b[0;34m'same'\u001b[0m\u001b[0;34m,\u001b[0m\u001b[0moutput_padding\u001b[0m\u001b[0;34m=\u001b[0m\u001b[0;34m(\u001b[0m\u001b[0;36m1\u001b[0m\u001b[0;34m,\u001b[0m\u001b[0;36m1\u001b[0m\u001b[0;34m)\u001b[0m\u001b[0;34m)\u001b[0m\u001b[0;34m(\u001b[0m\u001b[0mresblock_c\u001b[0m\u001b[0;34m)\u001b[0m\u001b[0;34m,\u001b[0m\u001b[0mpath4\u001b[0m\u001b[0;34m]\u001b[0m\u001b[0;34m,\u001b[0m\u001b[0maxis\u001b[0m\u001b[0;34m=\u001b[0m\u001b[0;36m3\u001b[0m\u001b[0;34m)\u001b[0m\u001b[0;34m\u001b[0m\u001b[0;34m\u001b[0m\u001b[0m\n\u001b[0m\u001b[1;32m     19\u001b[0m     \u001b[0mresblock_b1\u001b[0m\u001b[0;34m=\u001b[0m\u001b[0mresblock_B\u001b[0m\u001b[0;34m(\u001b[0m\u001b[0mUp1\u001b[0m\u001b[0;34m)\u001b[0m\u001b[0;34m\u001b[0m\u001b[0;34m\u001b[0m\u001b[0m\n\u001b[1;32m     20\u001b[0m \u001b[0;34m\u001b[0m\u001b[0m\n",
      "\u001b[0;32m~/anaconda3/lib/python3.7/site-packages/tensorflow/python/keras/layers/merge.py\u001b[0m in \u001b[0;36mconcatenate\u001b[0;34m(inputs, axis, **kwargs)\u001b[0m\n\u001b[1;32m    686\u001b[0m       \u001b[0mA\u001b[0m \u001b[0mtensor\u001b[0m\u001b[0;34m,\u001b[0m \u001b[0mthe\u001b[0m \u001b[0mconcatenation\u001b[0m \u001b[0mof\u001b[0m \u001b[0mthe\u001b[0m \u001b[0minputs\u001b[0m \u001b[0malongside\u001b[0m \u001b[0maxis\u001b[0m\u001b[0;31m \u001b[0m\u001b[0;31m`\u001b[0m\u001b[0maxis\u001b[0m\u001b[0;31m`\u001b[0m\u001b[0;34m.\u001b[0m\u001b[0;34m\u001b[0m\u001b[0;34m\u001b[0m\u001b[0m\n\u001b[1;32m    687\u001b[0m   \"\"\"\n\u001b[0;32m--> 688\u001b[0;31m   \u001b[0;32mreturn\u001b[0m \u001b[0mConcatenate\u001b[0m\u001b[0;34m(\u001b[0m\u001b[0maxis\u001b[0m\u001b[0;34m=\u001b[0m\u001b[0maxis\u001b[0m\u001b[0;34m,\u001b[0m \u001b[0;34m**\u001b[0m\u001b[0mkwargs\u001b[0m\u001b[0;34m)\u001b[0m\u001b[0;34m(\u001b[0m\u001b[0minputs\u001b[0m\u001b[0;34m)\u001b[0m\u001b[0;34m\u001b[0m\u001b[0;34m\u001b[0m\u001b[0m\n\u001b[0m\u001b[1;32m    689\u001b[0m \u001b[0;34m\u001b[0m\u001b[0m\n\u001b[1;32m    690\u001b[0m \u001b[0;34m\u001b[0m\u001b[0m\n",
      "\u001b[0;32m~/anaconda3/lib/python3.7/site-packages/tensorflow/python/keras/engine/base_layer.py\u001b[0m in \u001b[0;36m__call__\u001b[0;34m(self, inputs, *args, **kwargs)\u001b[0m\n\u001b[1;32m    592\u001b[0m           \u001b[0;31m# Build layer if applicable (if the `build` method has been\u001b[0m\u001b[0;34m\u001b[0m\u001b[0;34m\u001b[0m\u001b[0;34m\u001b[0m\u001b[0m\n\u001b[1;32m    593\u001b[0m           \u001b[0;31m# overridden).\u001b[0m\u001b[0;34m\u001b[0m\u001b[0;34m\u001b[0m\u001b[0;34m\u001b[0m\u001b[0m\n\u001b[0;32m--> 594\u001b[0;31m           \u001b[0mself\u001b[0m\u001b[0;34m.\u001b[0m\u001b[0m_maybe_build\u001b[0m\u001b[0;34m(\u001b[0m\u001b[0minputs\u001b[0m\u001b[0;34m)\u001b[0m\u001b[0;34m\u001b[0m\u001b[0;34m\u001b[0m\u001b[0m\n\u001b[0m\u001b[1;32m    595\u001b[0m           \u001b[0;31m# Explicitly pass the learning phase placeholder to `call` if\u001b[0m\u001b[0;34m\u001b[0m\u001b[0;34m\u001b[0m\u001b[0;34m\u001b[0m\u001b[0m\n\u001b[1;32m    596\u001b[0m           \u001b[0;31m# the `training` argument was left unspecified by the user.\u001b[0m\u001b[0;34m\u001b[0m\u001b[0;34m\u001b[0m\u001b[0;34m\u001b[0m\u001b[0m\n",
      "\u001b[0;32m~/anaconda3/lib/python3.7/site-packages/tensorflow/python/keras/engine/base_layer.py\u001b[0m in \u001b[0;36m_maybe_build\u001b[0;34m(self, inputs)\u001b[0m\n\u001b[1;32m   1711\u001b[0m     \u001b[0;31m# Only call `build` if the user has manually overridden the build method.\u001b[0m\u001b[0;34m\u001b[0m\u001b[0;34m\u001b[0m\u001b[0;34m\u001b[0m\u001b[0m\n\u001b[1;32m   1712\u001b[0m     \u001b[0;32mif\u001b[0m \u001b[0;32mnot\u001b[0m \u001b[0mhasattr\u001b[0m\u001b[0;34m(\u001b[0m\u001b[0mself\u001b[0m\u001b[0;34m.\u001b[0m\u001b[0mbuild\u001b[0m\u001b[0;34m,\u001b[0m \u001b[0;34m'_is_default'\u001b[0m\u001b[0;34m)\u001b[0m\u001b[0;34m:\u001b[0m\u001b[0;34m\u001b[0m\u001b[0;34m\u001b[0m\u001b[0m\n\u001b[0;32m-> 1713\u001b[0;31m       \u001b[0mself\u001b[0m\u001b[0;34m.\u001b[0m\u001b[0mbuild\u001b[0m\u001b[0;34m(\u001b[0m\u001b[0minput_shapes\u001b[0m\u001b[0;34m)\u001b[0m\u001b[0;34m\u001b[0m\u001b[0;34m\u001b[0m\u001b[0m\n\u001b[0m\u001b[1;32m   1714\u001b[0m     \u001b[0;31m# We must set self.built since user defined build functions are not\u001b[0m\u001b[0;34m\u001b[0m\u001b[0;34m\u001b[0m\u001b[0;34m\u001b[0m\u001b[0m\n\u001b[1;32m   1715\u001b[0m     \u001b[0;31m# constrained to set self.built.\u001b[0m\u001b[0;34m\u001b[0m\u001b[0;34m\u001b[0m\u001b[0;34m\u001b[0m\u001b[0m\n",
      "\u001b[0;32m~/anaconda3/lib/python3.7/site-packages/tensorflow/python/keras/utils/tf_utils.py\u001b[0m in \u001b[0;36mwrapper\u001b[0;34m(instance, input_shape)\u001b[0m\n\u001b[1;32m    288\u001b[0m     \u001b[0;32mif\u001b[0m \u001b[0minput_shape\u001b[0m \u001b[0;32mis\u001b[0m \u001b[0;32mnot\u001b[0m \u001b[0;32mNone\u001b[0m\u001b[0;34m:\u001b[0m\u001b[0;34m\u001b[0m\u001b[0;34m\u001b[0m\u001b[0m\n\u001b[1;32m    289\u001b[0m       \u001b[0minput_shape\u001b[0m \u001b[0;34m=\u001b[0m \u001b[0mconvert_shapes\u001b[0m\u001b[0;34m(\u001b[0m\u001b[0minput_shape\u001b[0m\u001b[0;34m,\u001b[0m \u001b[0mto_tuples\u001b[0m\u001b[0;34m=\u001b[0m\u001b[0;32mTrue\u001b[0m\u001b[0;34m)\u001b[0m\u001b[0;34m\u001b[0m\u001b[0;34m\u001b[0m\u001b[0m\n\u001b[0;32m--> 290\u001b[0;31m     \u001b[0moutput_shape\u001b[0m \u001b[0;34m=\u001b[0m \u001b[0mfn\u001b[0m\u001b[0;34m(\u001b[0m\u001b[0minstance\u001b[0m\u001b[0;34m,\u001b[0m \u001b[0minput_shape\u001b[0m\u001b[0;34m)\u001b[0m\u001b[0;34m\u001b[0m\u001b[0;34m\u001b[0m\u001b[0m\n\u001b[0m\u001b[1;32m    291\u001b[0m     \u001b[0;31m# Return shapes from `fn` as TensorShapes.\u001b[0m\u001b[0;34m\u001b[0m\u001b[0;34m\u001b[0m\u001b[0;34m\u001b[0m\u001b[0m\n\u001b[1;32m    292\u001b[0m     \u001b[0;32mif\u001b[0m \u001b[0moutput_shape\u001b[0m \u001b[0;32mis\u001b[0m \u001b[0;32mnot\u001b[0m \u001b[0;32mNone\u001b[0m\u001b[0;34m:\u001b[0m\u001b[0;34m\u001b[0m\u001b[0;34m\u001b[0m\u001b[0m\n",
      "\u001b[0;32m~/anaconda3/lib/python3.7/site-packages/tensorflow/python/keras/layers/merge.py\u001b[0m in \u001b[0;36mbuild\u001b[0;34m(self, input_shape)\u001b[0m\n\u001b[1;32m    390\u001b[0m                        \u001b[0;34m'inputs with matching shapes '\u001b[0m\u001b[0;34m\u001b[0m\u001b[0;34m\u001b[0m\u001b[0m\n\u001b[1;32m    391\u001b[0m                        \u001b[0;34m'except for the concat axis. '\u001b[0m\u001b[0;34m\u001b[0m\u001b[0;34m\u001b[0m\u001b[0m\n\u001b[0;32m--> 392\u001b[0;31m                        'Got inputs shapes: %s' % (input_shape))\n\u001b[0m\u001b[1;32m    393\u001b[0m \u001b[0;34m\u001b[0m\u001b[0m\n\u001b[1;32m    394\u001b[0m   \u001b[0;32mdef\u001b[0m \u001b[0m_merge_function\u001b[0m\u001b[0;34m(\u001b[0m\u001b[0mself\u001b[0m\u001b[0;34m,\u001b[0m \u001b[0minputs\u001b[0m\u001b[0;34m)\u001b[0m\u001b[0;34m:\u001b[0m\u001b[0;34m\u001b[0m\u001b[0;34m\u001b[0m\u001b[0m\n",
      "\u001b[0;31mValueError\u001b[0m: A `Concatenate` layer requires inputs with matching shapes except for the concat axis. Got inputs shapes: [(None, 125, 125, 512), (None, 127, 127, 32)]"
     ]
    }
   ],
   "source": [
    "if __name__ == '__main__':\n",
    "    main()"
   ]
  },
  {
   "cell_type": "code",
   "execution_count": null,
   "metadata": {},
   "outputs": [],
   "source": []
  }
 ],
 "metadata": {
  "kernelspec": {
   "display_name": "Python 3",
   "language": "python",
   "name": "python3"
  },
  "language_info": {
   "codemirror_mode": {
    "name": "ipython",
    "version": 3
   },
   "file_extension": ".py",
   "mimetype": "text/x-python",
   "name": "python",
   "nbconvert_exporter": "python",
   "pygments_lexer": "ipython3",
   "version": "3.7.2"
  }
 },
 "nbformat": 4,
 "nbformat_minor": 2
}

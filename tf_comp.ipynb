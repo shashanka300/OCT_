{
 "cells": [
  {
   "cell_type": "code",
   "execution_count": 1,
   "metadata": {},
   "outputs": [
    {
     "name": "stdout",
     "output_type": "stream",
     "text": [
      "2.0.0-alpha0\n"
     ]
    }
   ],
   "source": [
    "from u_net import *\n",
    "import os\n",
    "import sys\n",
    "import random\n",
    "import warnings\n",
    "\n",
    "import numpy as np\n",
    "import pandas as pd\n",
    "\n",
    "import matplotlib.pyplot as plt\n",
    "\n",
    "from tqdm import tqdm\n",
    "from itertools import chain\n",
    "from skimage.io import imread, imshow, imread_collection, concatenate_images\n",
    "from skimage.transform import resize\n",
    "from skimage.morphology import label\n",
    "import tensorflow.keras.backend as K\n",
    "from tensorflow.keras.layers import Lambda"
   ]
  },
  {
   "cell_type": "code",
   "execution_count": 2,
   "metadata": {},
   "outputs": [],
   "source": [
    "#from tf.keras import backend as K\n",
    "IMG_WIDTH = 128\n",
    "IMG_HEIGHT = 128\n",
    "IMG_CHANNELS = 3\n",
    "TRAIN_PATH = 'input/stage1_train/'\n",
    "TEST_PATH = 'input/stage1_test/'\n",
    "\n",
    "warnings.filterwarnings('ignore', category=UserWarning, module='skimage')\n",
    "random.seed = 40\n",
    "np.random.seed = 40"
   ]
  },
  {
   "cell_type": "code",
   "execution_count": 3,
   "metadata": {},
   "outputs": [],
   "source": [
    "train_ids = next(os.walk(TRAIN_PATH))[1]\n",
    "test_ids = next(os.walk(TEST_PATH))[1]"
   ]
  },
  {
   "cell_type": "code",
   "execution_count": 4,
   "metadata": {},
   "outputs": [
    {
     "name": "stdout",
     "output_type": "stream",
     "text": [
      "Getting and resizing train images and masks ... \n"
     ]
    },
    {
     "name": "stderr",
     "output_type": "stream",
     "text": [
      "100%|██████████| 670/670 [00:56<00:00,  9.03it/s]"
     ]
    },
    {
     "name": "stdout",
     "output_type": "stream",
     "text": [
      "Getting and resizing test images ... \n"
     ]
    },
    {
     "name": "stderr",
     "output_type": "stream",
     "text": [
      "\n",
      "100%|██████████| 65/65 [00:00<00:00, 127.97it/s]"
     ]
    },
    {
     "name": "stdout",
     "output_type": "stream",
     "text": [
      "Done!\n"
     ]
    },
    {
     "name": "stderr",
     "output_type": "stream",
     "text": [
      "\n"
     ]
    }
   ],
   "source": [
    "# Get and resize train images and masks\n",
    "X_train = np.zeros((len(train_ids), IMG_HEIGHT, IMG_WIDTH, IMG_CHANNELS), dtype=np.uint8)\n",
    "Y_train = np.zeros((len(train_ids), IMG_HEIGHT, IMG_WIDTH, 1), dtype=np.bool)\n",
    "print('Getting and resizing train images and masks ... ')\n",
    "sys.stdout.flush()\n",
    "for n, id_ in tqdm(enumerate(train_ids), total=len(train_ids)):\n",
    "    path = TRAIN_PATH + id_\n",
    "    img = imread(path + '/images/' + id_ + '.png')[:,:,:IMG_CHANNELS]\n",
    "    img = resize(img, (IMG_HEIGHT, IMG_WIDTH), mode='constant', preserve_range=True)\n",
    "    X_train[n] = img\n",
    "    mask = np.zeros((IMG_HEIGHT, IMG_WIDTH, 1), dtype=np.bool)\n",
    "    for mask_file in next(os.walk(path + '/masks/'))[2]:\n",
    "        mask_ = imread(path + '/masks/' + mask_file)\n",
    "        mask_ = np.expand_dims(resize(mask_, (IMG_HEIGHT, IMG_WIDTH), mode='constant', \n",
    "                                      preserve_range=True), axis=-1)\n",
    "        mask = np.maximum(mask, mask_)\n",
    "    Y_train[n] = mask\n",
    "\n",
    "# Get and resize test images\n",
    "X_test = np.zeros((len(test_ids), IMG_HEIGHT, IMG_WIDTH, IMG_CHANNELS), dtype=np.uint8)\n",
    "sizes_test = []\n",
    "print('Getting and resizing test images ... ')\n",
    "sys.stdout.flush()\n",
    "for n, id_ in tqdm(enumerate(test_ids), total=len(test_ids)):\n",
    "    path = TEST_PATH + id_\n",
    "    img = imread(path + '/images/' + id_ + '.png')[:,:,:IMG_CHANNELS]\n",
    "    sizes_test.append([img.shape[0], img.shape[1]])\n",
    "    img = resize(img, (IMG_HEIGHT, IMG_WIDTH), mode='constant', preserve_range=True)\n",
    "    X_test[n] = img\n",
    "\n",
    "print('Done!')"
   ]
  },
  {
   "cell_type": "code",
   "execution_count": 5,
   "metadata": {},
   "outputs": [
    {
     "data": {
      "image/png": "[encoded data removed]",
      "text/plain": [
       "<Figure size 432x288 with 1 Axes>"
      ]
     },
     "metadata": {
      "needs_background": "light"
     },
     "output_type": "display_data"
    },
    {
     "data": {
      "image/png": "[encoded data removed]",
      "text/plain": [
       "<Figure size 432x288 with 1 Axes>"
      ]
     },
     "metadata": {
      "needs_background": "light"
     },
     "output_type": "display_data"
    }
   ],
   "source": [
    "# Check if training data looks all right\n",
    "ix = random.randint(0, len(train_ids))\n",
    "imshow(X_train[ix])\n",
    "plt.show()\n",
    "imshow(np.squeeze(Y_train[ix]))\n",
    "plt.show()"
   ]
  },
  {
   "cell_type": "code",
   "execution_count": null,
   "metadata": {},
   "outputs": [],
   "source": [
    "#eval metrics\n",
    "# def mean_iou(y_true, y_pred):\n",
    "#     return tf.metrics.mean_iou(\n",
    "#     y_true,\n",
    "#     y_pred,\n",
    "#     num_classes,\n",
    "#     weights=None,\n",
    "#     metrics_collections=None,\n",
    "#     updates_collections=None,\n",
    "#     name=None\n",
    "#     )\n",
    "    "
   ]
  },
  {
   "cell_type": "code",
   "execution_count": null,
   "metadata": {},
   "outputs": [],
   "source": [
    "# Define IoU metric\n",
    "def mean_iou(y_true, y_pred):\n",
    "    prec = []\n",
    "    for t in np.arange(0.5, 1.0, 0.05):\n",
    "        y_pred_ = tf.cast(y_pred > t, dtype=tf.int32)\n",
    "        m = tf.keras.metrics.MeanIoU(num_classes=2)\n",
    "        score, up_opt=m.update_state(y_true, y_pred)\n",
    "#         score, up_opt = tf.compat.v1.metrics.mean_iou(y_true, y_pred_, 2,y_pred)\n",
    "#         tf.compat.v1.get_session_handle().run(tf.compat.v1.local_variables_initializer())\n",
    "        with tf.control_dependencies([up_opt]):\n",
    "               score = tf.identity(score)\n",
    "        prec.append(score)\n",
    "    return K.mean(K.stack(prec), axis=0)"
   ]
  },
  {
   "cell_type": "code",
   "execution_count": null,
   "metadata": {},
   "outputs": [],
   "source": [
    "def iou_metric(y_true_in, y_pred_in, print_table=False):\n",
    "    labels = label(y_true_in > 0.5)\n",
    "    y_pred = label(y_pred_in > 0.5)\n",
    "    \n",
    "    true_objects = len(np.unique(labels))\n",
    "    pred_objects = len(np.unique(y_pred))\n",
    "\n",
    "    intersection = np.histogram2d(labels.flatten(), y_pred.flatten(), bins=(true_objects, pred_objects))[0]\n",
    "\n",
    "    # Compute areas (needed for finding the union between all objects)\n",
    "    area_true = np.histogram(labels, bins = true_objects)[0]\n",
    "    area_pred = np.histogram(y_pred, bins = pred_objects)[0]\n",
    "    area_true = np.expand_dims(area_true, -1)\n",
    "    area_pred = np.expand_dims(area_pred, 0)\n",
    "\n",
    "    # Compute union\n",
    "    union = area_true + area_pred - intersection\n",
    "\n",
    "    # Exclude background from the analysis\n",
    "    intersection = intersection[1:,1:]\n",
    "    union = union[1:,1:]\n",
    "    union[union == 0] = 1e-9\n",
    "\n",
    "    # Compute the intersection over union\n",
    "    iou = intersection / union\n",
    "\n",
    "    # Precision helper function\n",
    "    def precision_at(threshold, iou):\n",
    "        matches = iou > threshold\n",
    "        true_positives = np.sum(matches, axis=1) == 1   # Correct objects\n",
    "        false_positives = np.sum(matches, axis=0) == 0  # Missed objects\n",
    "        false_negatives = np.sum(matches, axis=1) == 0  # Extra objects\n",
    "        tp, fp, fn = np.sum(true_positives), np.sum(false_positives), np.sum(false_negatives)\n",
    "        return tp, fp, fn\n",
    "\n",
    "    # Loop over IoU thresholds\n",
    "    prec = []\n",
    "    if print_table:\n",
    "        print(\"Thresh\\tTP\\tFP\\tFN\\tPrec.\")\n",
    "    for t in np.arange(0.5, 1.0, 0.05):\n",
    "        tp, fp, fn = precision_at(t, iou)\n",
    "        if (tp + fp + fn) > 0:\n",
    "            p = tp / (tp + fp + fn)\n",
    "        else:\n",
    "            p = 0\n",
    "        if print_table:\n",
    "            print(\"{:1.3f}\\t{}\\t{}\\t{}\\t{:1.3f}\".format(t, tp, fp, fn, p))\n",
    "        prec.append(p)\n",
    "    \n",
    "    if print_table:\n",
    "        print(\"AP\\t-\\t-\\t-\\t{:1.3f}\".format(np.mean(prec)))\n",
    "    return np.mean(prec)\n",
    "\n",
    "def iou_metric_batch(y_true_in, y_pred_in):\n",
    "    batch_size = y_true_in.shape[0]\n",
    "    metric = []\n",
    "    for batch in range(batch_size):\n",
    "        value = iou_metric(y_true_in[batch], y_pred_in[batch])\n",
    "        metric.append(value)\n",
    "    return np.array(np.mean(metric), dtype=np.float32)\n",
    "\n",
    "def my_iou_metric(label, pred):\n",
    "    metric_value = tf.py_function(iou_metric_batch, [label, pred], tf.float32)\n",
    "    return metric_value"
   ]
  },
  {
   "cell_type": "code",
   "execution_count": 6,
   "metadata": {},
   "outputs": [
    {
     "name": "stdout",
     "output_type": "stream",
     "text": [
      "Tensor(\"lambda/lambda/Identity:0\", shape=(None, 128, 128, 3), dtype=float32)\n",
      "inblock (None, 128, 128, 102)\n",
      "resblock_a (None, 128, 128, 486)\n",
      "path (None, 128, 128, 32)\n",
      "resblock_a (None, 64, 64, 870)\n",
      "path2 (None, 64, 64, 32)\n",
      "resblock_B (None, 32, 32, 2024)\n",
      "path3 (None, 32, 32, 64)\n",
      "resblock_B (None, 16, 16, 3178)\n",
      "path4 (None, 16, 16, 32)\n",
      "resblock_c (None, 8, 8, 5226)\n",
      "resblock_B (None, 16, 16, 1442)\n",
      "resblock_B (None, 32, 32, 1474)\n",
      "resblock_a (None, 64, 64, 480)\n",
      "resblock_a (None, 128, 128, 448)\n",
      "Tensor(\"batch_normalization_v2_25/cond/Identity:0\", shape=(None, 128, 128, 448), dtype=float32)\n",
      "inblock (None, 128, 128, 102)\n",
      "out (None, 128, 128, 102)\n",
      "conv final (None, 128, 128, 1)\n",
      "Model: \"model_1\"\n",
      "__________________________________________________________________________________________________\n",
      "Layer (type)                    Output Shape         Param #     Connected to                     \n",
      "==================================================================================================\n",
      "input_1 (InputLayer)            [(None, 128, 128, 3) 0                                            \n",
      "__________________________________________________________________________________________________\n",
      "lambda_1 (Lambda)               (None, 128, 128, 3)  0           input_1[0][0]                    \n",
      "__________________________________________________________________________________________________\n",
      "lambda_2 (Lambda)               (None, 128, 128, 3)  0           input_1[0][0]                    \n",
      "__________________________________________________________________________________________________\n",
      "model (Model)                   (None, 128, 128, 1)  16908456    lambda_1[0][0]                   \n",
      "                                                                 lambda_2[0][0]                   \n",
      "__________________________________________________________________________________________________\n",
      "conv2d_74 (Concatenate)         (None, 128, 128, 1)  0           model[1][0]                      \n",
      "                                                                 model[2][0]                      \n",
      "==================================================================================================\n",
      "Total params: 16,908,456\n",
      "Trainable params: 16,870,828\n",
      "Non-trainable params: 37,628\n",
      "__________________________________________________________________________________________________\n",
      "None\n"
     ]
    }
   ],
   "source": [
    "input_dimension=(128,128,3)\n",
    "lr=0.001\n",
    "\n",
    "inputs = Input(input_dimension)\n",
    "s = Lambda(lambda x: x ) (inputs)\n",
    "inblock_inp= inblock(s)\n",
    "resblock_a1=resblock_A(inblock_inp,32)\n",
    "path1=Path_1(resblock_a1)\n",
    "    \n",
    "    #reduction_a=reduction_A(resblock_a1)\n",
    "reduction_a=tf.keras.layers.MaxPooling2D((2,2))(resblock_a1)\n",
    "resblock_a2=resblock_A(reduction_a,64)\n",
    "path2=Path_2(resblock_a2)\n",
    "    \n",
    "reduction_b=tf.keras.layers.MaxPooling2D((2,2))(resblock_a2\n",
    "                                                         )\n",
    "resblock_b1=resblock_B(reduction_b)\n",
    "path3=Path_3(resblock_b1)\n",
    "    \n",
    "Mpooling=tf.keras.layers.MaxPooling2D((2,2))(resblock_b1)\n",
    "resblock_b2=resblock_B(Mpooling)\n",
    "path4=Path_4(resblock_b2)\n",
    "    \n",
    "Mpooling2=tf.keras.layers.MaxPooling2D((2,2))(resblock_b2)\n",
    "resblock_c=resblock_C(Mpooling2)\n",
    "    \n",
    "Up1=tf.keras.layers.concatenate([tf.keras.layers.Conv2DTranspose(256, (2, 2), strides=(2, 2), padding='same')(resblock_c),path4],axis=3)\n",
    "resblock_b2=resblock_B(Up1)\n",
    "\n",
    "Up2=tf.keras.layers.concatenate([tf.keras.layers.Conv2DTranspose(256, (2, 2), strides=(2, 2), padding='same')(resblock_b2),path3],axis=3)\n",
    "resblock_b3=resblock_B(Up2)\n",
    "\n",
    "    \n",
    "Up3=tf.keras.layers.concatenate([tf.keras.layers.Conv2DTranspose(64, (2, 2), strides=(2, 2), padding='same')(resblock_b3),path2],axis=3)\n",
    "resblock_a3=resblock_A(Up3,64)\n",
    "    \n",
    "    \n",
    "    \n",
    "Up4=tf.keras.layers.concatenate([tf.keras.layers.Conv2DTranspose(32, (2, 2), strides=(2, 2), padding='same')(resblock_a3),path1],axis=3)\n",
    "resblock_a4=resblock_A(Up4,32)\n",
    "\n",
    "outblock=inblock(resblock_a4)\n",
    "print(\"out\",outblock.shape)    \n",
    "conv_final=Conv2D(1,(1,1),activation='sigmoid',padding='same')(outblock)\n",
    "print(\"conv final\",conv_final.shape)   \n",
    "    \n",
    "model = tf.keras.Model(inputs=[inputs], outputs=[conv_final])\n",
    "#model.compile(tf.optimizers.Adam(lr),loss = 'binary_crossentropy', metrics = ['accuracy'])\n",
    "\n",
    "model = tf.keras.utils.multi_gpu_model(mode,cpu_merge=True,\n",
    "    cpu_relocation=False)\n",
    "model.compile(optimizer='adam', loss='binary_crossentropy', metrics=['accuracy'])\n",
    "    \n",
    "print(model.summary())\n"
   ]
  },
  {
   "cell_type": "code",
   "execution_count": 29,
   "metadata": {},
   "outputs": [
    {
     "name": "stdout",
     "output_type": "stream",
     "text": [
      "Train on 603 samples, validate on 67 samples\n",
      "Epoch 1/50\n",
      "592/603 [============================>.] - ETA: 0s - loss: 0.0440 - accuracy: 0.9819\n",
      "Epoch 00001: val_accuracy improved from -inf to 0.86055, saving model to test_1.h5\n",
      "603/603 [==============================] - 24s 39ms/sample - loss: 0.0442 - accuracy: 0.9818 - val_loss: 1.1542 - val_accuracy: 0.8606\n",
      "Epoch 2/50\n",
      "592/603 [============================>.] - ETA: 0s - loss: 0.0433 - accuracy: 0.9822\n",
      "Epoch 00002: val_accuracy did not improve from 0.86055\n",
      "603/603 [==============================] - 15s 25ms/sample - loss: 0.0433 - accuracy: 0.9822 - val_loss: 2.1492 - val_accuracy: 0.8603\n",
      "Epoch 3/50\n",
      "592/603 [============================>.] - ETA: 0s - loss: 0.0399 - accuracy: 0.9836\n",
      "Epoch 00003: val_accuracy did not improve from 0.86055\n",
      "603/603 [==============================] - 15s 25ms/sample - loss: 0.0399 - accuracy: 0.9837 - val_loss: 1.7821 - val_accuracy: 0.8603\n",
      "Epoch 4/50\n",
      "592/603 [============================>.] - ETA: 0s - loss: 0.0399 - accuracy: 0.9836\n",
      "Epoch 00004: val_accuracy did not improve from 0.86055\n",
      "603/603 [==============================] - 15s 25ms/sample - loss: 0.0399 - accuracy: 0.9836 - val_loss: 2.1045 - val_accuracy: 0.8603\n",
      "Epoch 5/50\n",
      "592/603 [============================>.] - ETA: 0s - loss: 0.0400 - accuracy: 0.9836\n",
      "Epoch 00005: val_accuracy did not improve from 0.86055\n",
      "603/603 [==============================] - 15s 25ms/sample - loss: 0.0397 - accuracy: 0.9837 - val_loss: 2.1350 - val_accuracy: 0.8603\n",
      "Epoch 6/50\n",
      "592/603 [============================>.] - ETA: 0s - loss: 0.0391 - accuracy: 0.9840\n",
      "Epoch 00006: val_accuracy improved from 0.86055 to 0.96611, saving model to test_1.h5\n",
      "603/603 [==============================] - 16s 26ms/sample - loss: 0.0389 - accuracy: 0.9840 - val_loss: 0.1645 - val_accuracy: 0.9661\n",
      "Epoch 00006: early stopping\n"
     ]
    }
   ],
   "source": [
    "# Fit model\n",
    "#model.compile(tf.optimizers.Adam(learning_rate=0.001),loss = 'binary_crossentropy', metrics = ['accuracy'])\n",
    "es = tf.keras.callbacks.EarlyStopping(monitor='val_accuracy', mode='min', verbose=1)\n",
    "cs = tf.keras.callbacks.ModelCheckpoint('test_1.h5',monitor='val_accuracy', verbose=1, save_best_only=True)\n",
    "results = model.fit(X_train, Y_train, validation_split=0.1, batch_size=16, epochs=50,shuffle=True,steps_per_epoch=None,callbacks=[es,cs])"
   ]
  },
  {
   "cell_type": "code",
   "execution_count": 26,
   "metadata": {},
   "outputs": [
    {
     "name": "stdout",
     "output_type": "stream",
     "text": [
      "603/603 [==============================] - 5s 7ms/sample\n",
      "67/67 [==============================] - 0s 6ms/sample\n",
      "65/65 [==============================] - 0s 6ms/sample\n"
     ]
    }
   ],
   "source": [
    "# Predict on train, val and test\n",
    "#model = load_model('test_1.h5', custom_objects={'mean_iou': my_iou_metric})\n",
    "#tf.keras.models.save_model(model, \"./model/test_1.h5\",)\n",
    "model = tf.keras.models.load_model('test_1.h5')\n",
    "preds_train = model.predict(X_train[:int(X_train.shape[0]*0.9)], verbose=1)\n",
    "preds_val = model.predict(X_train[int(X_train.shape[0]*0.9):], verbose=1)\n",
    "preds_test = model.predict(X_test, verbose=1)\n",
    "\n",
    "# Threshold predictions\n",
    "preds_train_t = (preds_train > 0.5).astype(np.uint8)\n",
    "preds_val_t = (preds_val > 0.5).astype(np.uint8)\n",
    "preds_test_t = (preds_test > 0.5).astype(np.uint8)\n",
    "\n",
    "# Create list of upsampled test masks\n",
    "preds_test_upsampled = []\n",
    "for i in range(len(preds_test)):\n",
    "    preds_test_upsampled.append(resize(np.squeeze(preds_test[i]), \n",
    "                                       (sizes_test[i][0], sizes_test[i][1]), \n",
    "                                       mode='constant', preserve_range=True))"
   ]
  },
  {
   "cell_type": "code",
   "execution_count": 27,
   "metadata": {},
   "outputs": [
    {
     "data": {
      "image/png": "[encoded data removed]",
      "text/plain": [
       "<Figure size 432x288 with 1 Axes>"
      ]
     },
     "metadata": {
      "needs_background": "light"
     },
     "output_type": "display_data"
    },
    {
     "data": {
      "image/png": "[encoded data removed]",
      "text/plain": [
       "<Figure size 432x288 with 1 Axes>"
      ]
     },
     "metadata": {
      "needs_background": "light"
     },
     "output_type": "display_data"
    },
    {
     "data": {
      "image/png": "[encoded data removed]",
      "text/plain": [
       "<Figure size 432x288 with 1 Axes>"
      ]
     },
     "metadata": {
      "needs_background": "light"
     },
     "output_type": "display_data"
    }
   ],
   "source": [
    "# Perform a sanity check on some random training samples\n",
    "ix = random.randint(0, len(preds_train_t))\n",
    "imshow(X_train[ix])\n",
    "plt.show()\n",
    "imshow(np.squeeze(Y_train[ix]))\n",
    "plt.show()\n",
    "imshow(np.squeeze(preds_train_t[ix]))\n",
    "plt.show()"
   ]
  },
  {
   "cell_type": "code",
   "execution_count": 28,
   "metadata": {},
   "outputs": [
    {
     "data": {
      "image/png": "[encoded data removed]",
      "text/plain": [
       "<Figure size 432x288 with 1 Axes>"
      ]
     },
     "metadata": {
      "needs_background": "light"
     },
     "output_type": "display_data"
    },
    {
     "data": {
      "image/png": "[encoded data removed]",
      "text/plain": [
       "<Figure size 432x288 with 1 Axes>"
      ]
     },
     "metadata": {
      "needs_background": "light"
     },
     "output_type": "display_data"
    },
    {
     "data": {
      "image/png": "[encoded data removed]",
      "text/plain": [
       "<Figure size 432x288 with 1 Axes>"
      ]
     },
     "metadata": {
      "needs_background": "light"
     },
     "output_type": "display_data"
    }
   ],
   "source": [
    "# Perform a sanity check on some random validation samples\n",
    "ix = random.randint(0, len(preds_val_t))\n",
    "imshow(X_train[int(X_train.shape[0]*0.9):][ix])\n",
    "plt.show()\n",
    "imshow(np.squeeze(Y_train[int(Y_train.shape[0]*0.9):][ix]))\n",
    "plt.show()\n",
    "imshow(np.squeeze(preds_val_t[ix]))\n",
    "plt.show()"
   ]
  },
  {
   "cell_type": "code",
   "execution_count": null,
   "metadata": {},
   "outputs": [],
   "source": []
  }
 ],
 "metadata": {
  "kernelspec": {
   "display_name": "Python 3",
   "language": "python",
   "name": "python3"
  },
  "language_info": {
   "codemirror_mode": {
    "name": "ipython",
    "version": 3
   },
   "file_extension": ".py",
   "mimetype": "text/x-python",
   "name": "python",
   "nbconvert_exporter": "python",
   "pygments_lexer": "ipython3",
   "version": "3.7.2"
  }
 },
 "nbformat": 4,
 "nbformat_minor": 2
}
